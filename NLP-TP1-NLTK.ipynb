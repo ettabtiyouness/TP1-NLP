{
 "cells": [
  {
   "cell_type": "markdown",
   "id": "413a347c",
   "metadata": {},
   "source": [
    "# Library"
   ]
  },
  {
   "cell_type": "code",
   "execution_count": 80,
   "id": "16b6e7b8",
   "metadata": {},
   "outputs": [
    {
     "name": "stderr",
     "output_type": "stream",
     "text": [
      "[nltk_data] Downloading package stopwords to C:\\Users\\ET-\n",
      "[nltk_data]     TABTI\\AppData\\Roaming\\nltk_data...\n",
      "[nltk_data]   Package stopwords is already up-to-date!\n",
      "[nltk_data] Downloading package averaged_perceptron_tagger to\n",
      "[nltk_data]     C:\\Users\\ET-TABTI\\AppData\\Roaming\\nltk_data...\n",
      "[nltk_data]   Package averaged_perceptron_tagger is already up-to-\n",
      "[nltk_data]       date!\n"
     ]
    },
    {
     "data": {
      "text/plain": [
       "True"
      ]
     },
     "execution_count": 80,
     "metadata": {},
     "output_type": "execute_result"
    }
   ],
   "source": [
    "import nltk, string\n",
    "from nltk.tokenize import word_tokenize\n",
    "from nltk.tokenize import sent_tokenize\n",
    "from nltk.corpus import stopwords\n",
    "from nltk.tag import pos_tag\n",
    "nltk.download('stopwords')\n",
    "nltk.download('averaged_perceptron_tagger')"
   ]
  },
  {
   "cell_type": "markdown",
   "id": "3db4ce30",
   "metadata": {},
   "source": [
    "# Text "
   ]
  },
  {
   "cell_type": "code",
   "execution_count": 65,
   "id": "d4e633a1",
   "metadata": {},
   "outputs": [],
   "source": [
    "Text_eng = \"\"\"Perhaps one of the most significant advances made by Arabic mathematics began at this time with the work of al-Khwarizmi, namely the beginnings of algebra. It is important to understand just how significant this new idea was. It was a revolutionary move away from the Greek concept of mathematics which was essentially geometry. Algebra was a unifying theory which allowed rational numbers, irrational numbers, geometrical magnitudes, etc., to all be treated as \"algebraic objects\". It gave mathematics a whole new development path so much broader in concept to that which had existed before, and provided a vehicle for future development of the subject. Another important aspect of the introduction of algebraic ideas was that it allowed mathematics to be applied to itself in a way which had not happened before.\"\"\""
   ]
  },
  {
   "cell_type": "code",
   "execution_count": 79,
   "id": "e5a72369",
   "metadata": {},
   "outputs": [
    {
     "ename": "NameError",
     "evalue": "name 'string' is not defined",
     "output_type": "error",
     "traceback": [
      "\u001b[1;31m---------------------------------------------------------------------------\u001b[0m",
      "\u001b[1;31mNameError\u001b[0m                                 Traceback (most recent call last)",
      "\u001b[1;32m<ipython-input-79-94fd44dfc72d>\u001b[0m in \u001b[0;36m<module>\u001b[1;34m\u001b[0m\n\u001b[0;32m      1\u001b[0m \u001b[0mText_ar\u001b[0m \u001b[1;33m=\u001b[0m \u001b[1;34m'''ربما كانت أحد أهم التطورات التي قامت بها الرياضيات العربية التي بدأت في هذا الوقت بعمل الخوارزمي و هي بدايات الجبر، و من المهم فهم كيف كانت هذه الفكرة الجديدة مهمة، فقد كانت خطوة ثورية بعيدا عن المفهوم اليوناني للرياضيات التي هي في جوهرها هندسة، الجبر كان نظرية موحدة تتيح الأعداد الكسرية و الأعداد اللا كسرية، و المقادير الهندسية و غيرها، أن تتعامل على أنها أجسام جبرية، و أعطت الرياضيات ككل مسارا جديدا للتطور بمفهوم أوسع بكثير من الذي كان موجودا من قبل، و قدم وسيلة للتنمية في هذا الموضوع مستقبلا و جانب آخر مهم لإدخال أفكار الجبر و هو أنه سمح بتطبيق الرياضيات على نفسها بطريقة لم تحدث من قبل'''\u001b[0m\u001b[1;33m\u001b[0m\u001b[1;33m\u001b[0m\u001b[0m\n\u001b[1;32m----> 2\u001b[1;33m \u001b[0mText_ar\u001b[0m \u001b[1;33m=\u001b[0m \u001b[1;34m\"\"\u001b[0m\u001b[1;33m.\u001b[0m\u001b[0mjoin\u001b[0m\u001b[1;33m(\u001b[0m\u001b[1;33m[\u001b[0m\u001b[0mchar\u001b[0m \u001b[1;32mfor\u001b[0m \u001b[0mchar\u001b[0m \u001b[1;32min\u001b[0m \u001b[0mText_ar\u001b[0m \u001b[1;32mif\u001b[0m \u001b[0mchar\u001b[0m \u001b[1;32mnot\u001b[0m \u001b[1;32min\u001b[0m \u001b[0mstring\u001b[0m\u001b[1;33m.\u001b[0m\u001b[0mpunctuation\u001b[0m\u001b[1;33m]\u001b[0m\u001b[1;33m)\u001b[0m\u001b[1;33m\u001b[0m\u001b[1;33m\u001b[0m\u001b[0m\n\u001b[0m",
      "\u001b[1;32m<ipython-input-79-94fd44dfc72d>\u001b[0m in \u001b[0;36m<listcomp>\u001b[1;34m(.0)\u001b[0m\n\u001b[0;32m      1\u001b[0m \u001b[0mText_ar\u001b[0m \u001b[1;33m=\u001b[0m \u001b[1;34m'''ربما كانت أحد أهم التطورات التي قامت بها الرياضيات العربية التي بدأت في هذا الوقت بعمل الخوارزمي و هي بدايات الجبر، و من المهم فهم كيف كانت هذه الفكرة الجديدة مهمة، فقد كانت خطوة ثورية بعيدا عن المفهوم اليوناني للرياضيات التي هي في جوهرها هندسة، الجبر كان نظرية موحدة تتيح الأعداد الكسرية و الأعداد اللا كسرية، و المقادير الهندسية و غيرها، أن تتعامل على أنها أجسام جبرية، و أعطت الرياضيات ككل مسارا جديدا للتطور بمفهوم أوسع بكثير من الذي كان موجودا من قبل، و قدم وسيلة للتنمية في هذا الموضوع مستقبلا و جانب آخر مهم لإدخال أفكار الجبر و هو أنه سمح بتطبيق الرياضيات على نفسها بطريقة لم تحدث من قبل'''\u001b[0m\u001b[1;33m\u001b[0m\u001b[1;33m\u001b[0m\u001b[0m\n\u001b[1;32m----> 2\u001b[1;33m \u001b[0mText_ar\u001b[0m \u001b[1;33m=\u001b[0m \u001b[1;34m\"\"\u001b[0m\u001b[1;33m.\u001b[0m\u001b[0mjoin\u001b[0m\u001b[1;33m(\u001b[0m\u001b[1;33m[\u001b[0m\u001b[0mchar\u001b[0m \u001b[1;32mfor\u001b[0m \u001b[0mchar\u001b[0m \u001b[1;32min\u001b[0m \u001b[0mText_ar\u001b[0m \u001b[1;32mif\u001b[0m \u001b[0mchar\u001b[0m \u001b[1;32mnot\u001b[0m \u001b[1;32min\u001b[0m \u001b[0mstring\u001b[0m\u001b[1;33m.\u001b[0m\u001b[0mpunctuation\u001b[0m\u001b[1;33m]\u001b[0m\u001b[1;33m)\u001b[0m\u001b[1;33m\u001b[0m\u001b[1;33m\u001b[0m\u001b[0m\n\u001b[0m",
      "\u001b[1;31mNameError\u001b[0m: name 'string' is not defined"
     ]
    }
   ],
   "source": [
    "Text_ar = '''ربما كانت أحد أهم التطورات التي قامت بها الرياضيات العربية التي بدأت في هذا الوقت بعمل الخوارزمي و هي بدايات الجبر، و من المهم فهم كيف كانت هذه الفكرة الجديدة مهمة، فقد كانت خطوة ثورية بعيدا عن المفهوم اليوناني للرياضيات التي هي في جوهرها هندسة، الجبر كان نظرية موحدة تتيح الأعداد الكسرية و الأعداد اللا كسرية، و المقادير الهندسية و غيرها، أن تتعامل على أنها أجسام جبرية، و أعطت الرياضيات ككل مسارا جديدا للتطور بمفهوم أوسع بكثير من الذي كان موجودا من قبل، و قدم وسيلة للتنمية في هذا الموضوع مستقبلا و جانب آخر مهم لإدخال أفكار الجبر و هو أنه سمح بتطبيق الرياضيات على نفسها بطريقة لم تحدث من قبل'''"
   ]
  },
  {
   "cell_type": "code",
   "execution_count": null,
   "id": "ec5a1218",
   "metadata": {},
   "outputs": [],
   "source": []
  },
  {
   "cell_type": "markdown",
   "id": "485e443c",
   "metadata": {},
   "source": [
    "# English"
   ]
  },
  {
   "cell_type": "markdown",
   "id": "bdc63e05",
   "metadata": {},
   "source": [
    "# Tokenization"
   ]
  },
  {
   "cell_type": "markdown",
   "id": "4825ec5b",
   "metadata": {},
   "source": [
    "### Tokenization  | Word Tokenization"
   ]
  },
  {
   "cell_type": "code",
   "execution_count": 42,
   "id": "3ddc0e58",
   "metadata": {},
   "outputs": [
    {
     "name": "stdout",
     "output_type": "stream",
     "text": [
      "['Perhaps', 'one', 'of', 'the', 'most', 'significant', 'advances', 'made', 'by', 'Arabic', 'mathematics', 'began', 'at', 'this', 'time', 'with', 'the', 'work', 'of', 'al-Khwarizmi', ',', 'namely', 'the', 'beginnings', 'of', 'algebra', '.', 'It', 'is', 'important', 'to', 'understand', 'just', 'how', 'significant', 'this', 'new', 'idea', 'was', '.', 'It', 'was', 'a', 'revolutionary', 'move', 'away', 'from', 'the', 'Greek', 'concept', 'of', 'mathematics', 'which', 'was', 'essentially', 'geometry', '.', 'Algebra', 'was', 'a', 'unifying', 'theory', 'which', 'allowed', 'rational', 'numbers', ',', 'irrational', 'numbers', ',', 'geometrical', 'magnitudes', ',', 'etc.', ',', 'to', 'all', 'be', 'treated', 'as', '``', 'algebraic', 'objects', \"''\", '.', 'It', 'gave', 'mathematics', 'a', 'whole', 'new', 'development', 'path', 'so', 'much', 'broader', 'in', 'concept', 'to', 'that', 'which', 'had', 'existed', 'before', ',', 'and', 'provided', 'a', 'vehicle', 'for', 'future', 'development', 'of', 'the', 'subject', '.', 'Another', 'important', 'aspect', 'of', 'the', 'introduction', 'of', 'algebraic', 'ideas', 'was', 'that', 'it', 'allowed', 'mathematics', 'to', 'be', 'applied', 'to', 'itself', 'in', 'a', 'way', 'which', 'had', 'not', 'happened', 'before', '.']\n"
     ]
    }
   ],
   "source": [
    "Text_eng_word = word_tokenize(Text_eng)\n",
    "print(Text_eng_word)"
   ]
  },
  {
   "cell_type": "markdown",
   "id": "446c6df5",
   "metadata": {},
   "source": [
    "### Tokenization  | Sent Tokenization"
   ]
  },
  {
   "cell_type": "code",
   "execution_count": 36,
   "id": "a8bc7149",
   "metadata": {},
   "outputs": [
    {
     "name": "stdout",
     "output_type": "stream",
     "text": [
      "['Perhaps one of the most significant advances made by Arabic mathematics began at this time with the work of al-Khwarizmi, namely the beginnings of algebra.', 'It is important to understand just how significant this new idea was.', 'It was a revolutionary move away from the Greek concept of mathematics which was essentially geometry.', 'Algebra was a unifying theory which allowed rational numbers, irrational numbers, geometrical magnitudes, etc., to all be treated as \"algebraic objects\".', 'It gave mathematics a whole new development path so much broader in concept to that which had existed before, and provided a vehicle for future development of the subject.', 'Another important aspect of the introduction of algebraic ideas was that it allowed mathematics to be applied to itself in a way which had not happened before.']\n"
     ]
    }
   ],
   "source": [
    "Text_eng_sent = sent_tokenize(Text_eng)\n",
    "print(Text_eng_sent)"
   ]
  },
  {
   "cell_type": "markdown",
   "id": "454ae10c",
   "metadata": {},
   "source": [
    "## Stopwords "
   ]
  },
  {
   "cell_type": "markdown",
   "id": "a514cda2",
   "metadata": {},
   "source": [
    "##### get list of stopwords for specific english"
   ]
  },
  {
   "cell_type": "code",
   "execution_count": 41,
   "id": "046aeeb8",
   "metadata": {},
   "outputs": [],
   "source": [
    "english_stops = set(stopwords.words('english'))"
   ]
  },
  {
   "cell_type": "markdown",
   "id": "e20005c0",
   "metadata": {},
   "source": [
    "##### Remove Stopwords"
   ]
  },
  {
   "cell_type": "code",
   "execution_count": 53,
   "id": "f386d298",
   "metadata": {},
   "outputs": [
    {
     "name": "stdout",
     "output_type": "stream",
     "text": [
      "['Perhaps', 'one', 'significant', 'advances', 'made', 'Arabic', 'mathematics', 'began', 'time', 'work', 'al-Khwarizmi', ',', 'namely', 'beginnings', 'algebra', '.', 'It', 'important', 'understand', 'significant', 'new', 'idea', '.', 'It', 'revolutionary', 'move', 'away', 'Greek', 'concept', 'mathematics', 'essentially', 'geometry', '.', 'Algebra', 'unifying', 'theory', 'allowed', 'rational', 'numbers', ',', 'irrational', 'numbers', ',', 'geometrical', 'magnitudes', ',', 'etc.', ',', 'treated', '``', 'algebraic', 'objects', \"''\", '.', 'It', 'gave', 'mathematics', 'whole', 'new', 'development', 'path', 'much', 'broader', 'concept', 'existed', ',', 'provided', 'vehicle', 'future', 'development', 'subject', '.', 'Another', 'important', 'aspect', 'introduction', 'algebraic', 'ideas', 'allowed', 'mathematics', 'applied', 'way', 'happened', '.']\n"
     ]
    }
   ],
   "source": [
    "print([word for word in Text_eng_word if word not in english_stops])"
   ]
  },
  {
   "cell_type": "markdown",
   "id": "5eba538e",
   "metadata": {},
   "source": [
    "## Part of Speech Tagging  "
   ]
  },
  {
   "cell_type": "code",
   "execution_count": 64,
   "id": "8ed39e03",
   "metadata": {},
   "outputs": [
    {
     "data": {
      "text/plain": [
       "[('Perhaps', 'RB'),\n",
       " ('one', 'CD'),\n",
       " ('of', 'IN'),\n",
       " ('the', 'DT'),\n",
       " ('most', 'RBS'),\n",
       " ('significant', 'JJ'),\n",
       " ('advances', 'NNS'),\n",
       " ('made', 'VBN'),\n",
       " ('by', 'IN'),\n",
       " ('Arabic', 'NNP'),\n",
       " ('mathematics', 'NNS'),\n",
       " ('began', 'VBD'),\n",
       " ('at', 'IN'),\n",
       " ('this', 'DT'),\n",
       " ('time', 'NN'),\n",
       " ('with', 'IN'),\n",
       " ('the', 'DT'),\n",
       " ('work', 'NN'),\n",
       " ('of', 'IN'),\n",
       " ('al-Khwarizmi', 'JJ'),\n",
       " (',', ','),\n",
       " ('namely', 'RB'),\n",
       " ('the', 'DT'),\n",
       " ('beginnings', 'NNS'),\n",
       " ('of', 'IN'),\n",
       " ('algebra', 'NN'),\n",
       " ('.', '.'),\n",
       " ('It', 'PRP'),\n",
       " ('is', 'VBZ'),\n",
       " ('important', 'JJ'),\n",
       " ('to', 'TO'),\n",
       " ('understand', 'VB'),\n",
       " ('just', 'RB'),\n",
       " ('how', 'WRB'),\n",
       " ('significant', 'JJ'),\n",
       " ('this', 'DT'),\n",
       " ('new', 'JJ'),\n",
       " ('idea', 'NN'),\n",
       " ('was', 'VBD'),\n",
       " ('.', '.'),\n",
       " ('It', 'PRP'),\n",
       " ('was', 'VBD'),\n",
       " ('a', 'DT'),\n",
       " ('revolutionary', 'JJ'),\n",
       " ('move', 'NN'),\n",
       " ('away', 'RB'),\n",
       " ('from', 'IN'),\n",
       " ('the', 'DT'),\n",
       " ('Greek', 'NNP'),\n",
       " ('concept', 'NN'),\n",
       " ('of', 'IN'),\n",
       " ('mathematics', 'NNS'),\n",
       " ('which', 'WDT'),\n",
       " ('was', 'VBD'),\n",
       " ('essentially', 'RB'),\n",
       " ('geometry', 'JJ'),\n",
       " ('.', '.'),\n",
       " ('Algebra', 'NNP'),\n",
       " ('was', 'VBD'),\n",
       " ('a', 'DT'),\n",
       " ('unifying', 'JJ'),\n",
       " ('theory', 'NN'),\n",
       " ('which', 'WDT'),\n",
       " ('allowed', 'VBD'),\n",
       " ('rational', 'JJ'),\n",
       " ('numbers', 'NNS'),\n",
       " (',', ','),\n",
       " ('irrational', 'JJ'),\n",
       " ('numbers', 'NNS'),\n",
       " (',', ','),\n",
       " ('geometrical', 'JJ'),\n",
       " ('magnitudes', 'NNS'),\n",
       " (',', ','),\n",
       " ('etc.', 'NN'),\n",
       " (',', ','),\n",
       " ('to', 'TO'),\n",
       " ('all', 'DT'),\n",
       " ('be', 'VB'),\n",
       " ('treated', 'VBN'),\n",
       " ('as', 'IN'),\n",
       " ('``', '``'),\n",
       " ('algebraic', 'JJ'),\n",
       " ('objects', 'NNS'),\n",
       " (\"''\", \"''\"),\n",
       " ('.', '.'),\n",
       " ('It', 'PRP'),\n",
       " ('gave', 'VBD'),\n",
       " ('mathematics', 'NNS'),\n",
       " ('a', 'DT'),\n",
       " ('whole', 'JJ'),\n",
       " ('new', 'JJ'),\n",
       " ('development', 'NN'),\n",
       " ('path', 'NN'),\n",
       " ('so', 'RB'),\n",
       " ('much', 'JJ'),\n",
       " ('broader', 'JJR'),\n",
       " ('in', 'IN'),\n",
       " ('concept', 'NN'),\n",
       " ('to', 'TO'),\n",
       " ('that', 'DT'),\n",
       " ('which', 'WDT'),\n",
       " ('had', 'VBD'),\n",
       " ('existed', 'VBN'),\n",
       " ('before', 'IN'),\n",
       " (',', ','),\n",
       " ('and', 'CC'),\n",
       " ('provided', 'VBD'),\n",
       " ('a', 'DT'),\n",
       " ('vehicle', 'NN'),\n",
       " ('for', 'IN'),\n",
       " ('future', 'JJ'),\n",
       " ('development', 'NN'),\n",
       " ('of', 'IN'),\n",
       " ('the', 'DT'),\n",
       " ('subject', 'NN'),\n",
       " ('.', '.'),\n",
       " ('Another', 'DT'),\n",
       " ('important', 'JJ'),\n",
       " ('aspect', 'NN'),\n",
       " ('of', 'IN'),\n",
       " ('the', 'DT'),\n",
       " ('introduction', 'NN'),\n",
       " ('of', 'IN'),\n",
       " ('algebraic', 'JJ'),\n",
       " ('ideas', 'NNS'),\n",
       " ('was', 'VBD'),\n",
       " ('that', 'IN'),\n",
       " ('it', 'PRP'),\n",
       " ('allowed', 'VBD'),\n",
       " ('mathematics', 'NNS'),\n",
       " ('to', 'TO'),\n",
       " ('be', 'VB'),\n",
       " ('applied', 'VBN'),\n",
       " ('to', 'TO'),\n",
       " ('itself', 'PRP'),\n",
       " ('in', 'IN'),\n",
       " ('a', 'DT'),\n",
       " ('way', 'NN'),\n",
       " ('which', 'WDT'),\n",
       " ('had', 'VBD'),\n",
       " ('not', 'RB'),\n",
       " ('happened', 'VBN'),\n",
       " ('before', 'IN'),\n",
       " ('.', '.')]"
      ]
     },
     "execution_count": 64,
     "metadata": {},
     "output_type": "execute_result"
    }
   ],
   "source": [
    "pos_tag(Text_eng_word)"
   ]
  },
  {
   "cell_type": "markdown",
   "id": "a9f2ba5d",
   "metadata": {},
   "source": [
    "# Arabic"
   ]
  },
  {
   "cell_type": "code",
   "execution_count": 84,
   "id": "ed23c8e8",
   "metadata": {},
   "outputs": [
    {
     "name": "stdout",
     "output_type": "stream",
     "text": [
      "ربما كانت أحد أهم التطورات التي قامت بها الرياضيات العربية التي بدأت في هذا الوقت بعمل الخوارزمي و هي بدايات الجبر، و من المهم فهم كيف كانت هذه الفكرة الجديدة مهمة، فقد كانت خطوة ثورية بعيدا عن المفهوم اليوناني للرياضيات التي هي في جوهرها هندسة، الجبر كان نظرية موحدة تتيح الأعداد الكسرية و الأعداد اللا كسرية، و المقادير الهندسية و غيرها، أن تتعامل على أنها أجسام جبرية، و أعطت الرياضيات ككل مسارا جديدا للتطور بمفهوم أوسع بكثير من الذي كان موجودا من قبل، و قدم وسيلة للتنمية في هذا الموضوع مستقبلا و جانب آخر مهم لإدخال أفكار الجبر و هو أنه سمح بتطبيق الرياضيات على نفسها بطريقة لم تحدث من قبل\n"
     ]
    }
   ],
   "source": [
    "Text_arabic = \"\".join([char for char in Text_ar if char not in string.punctuation])\n",
    "print(Text_arabic)"
   ]
  },
  {
   "cell_type": "markdown",
   "id": "9e0bb96c",
   "metadata": {},
   "source": [
    "## Tokenization"
   ]
  },
  {
   "cell_type": "markdown",
   "id": "3e6283ab",
   "metadata": {},
   "source": [
    "### Tokenization | Word Tokenization"
   ]
  },
  {
   "cell_type": "code",
   "execution_count": 70,
   "id": "3bfbfe70",
   "metadata": {},
   "outputs": [
    {
     "name": "stdout",
     "output_type": "stream",
     "text": [
      "['ربما', 'كانت', 'أحد', 'أهم', 'التطورات', 'التي', 'قامت', 'بها', 'الرياضيات', 'العربية', 'التي', 'بدأت', 'في', 'هذا', 'الوقت', 'بعمل', 'الخوارزمي', 'و', 'هي', 'بدايات', 'الجبر،', 'و', 'من', 'المهم', 'فهم', 'كيف', 'كانت', 'هذه', 'الفكرة', 'الجديدة', 'مهمة،', 'فقد', 'كانت', 'خطوة', 'ثورية', 'بعيدا', 'عن', 'المفهوم', 'اليوناني', 'للرياضيات', 'التي', 'هي', 'في', 'جوهرها', 'هندسة،', 'الجبر', 'كان', 'نظرية', 'موحدة', 'تتيح', 'الأعداد', 'الكسرية', 'و', 'الأعداد', 'اللا', 'كسرية،', 'و', 'المقادير', 'الهندسية', 'و', 'غيرها،', 'أن', 'تتعامل', 'على', 'أنها', 'أجسام', 'جبرية،', 'و', 'أعطت', 'الرياضيات', 'ككل', 'مسارا', 'جديدا', 'للتطور', 'بمفهوم', 'أوسع', 'بكثير', 'من', 'الذي', 'كان', 'موجودا', 'من', 'قبل،', 'و', 'قدم', 'وسيلة', 'للتنمية', 'في', 'هذا', 'الموضوع', 'مستقبلا', 'و', 'جانب', 'آخر', 'مهم', 'لإدخال', 'أفكار', 'الجبر', 'و', 'هو', 'أنه', 'سمح', 'بتطبيق', 'الرياضيات', 'على', 'نفسها', 'بطريقة', 'لم', 'تحدث', 'من', 'قبل']\n"
     ]
    }
   ],
   "source": [
    "Text_ar_word = word_tokenize(Text_ar)\n",
    "print(Text_ar_word)"
   ]
  },
  {
   "cell_type": "markdown",
   "id": "291f4db4",
   "metadata": {},
   "source": [
    "### Tokenization | Sent Tokenization"
   ]
  },
  {
   "cell_type": "code",
   "execution_count": 72,
   "id": "d1bcb37f",
   "metadata": {},
   "outputs": [
    {
     "name": "stdout",
     "output_type": "stream",
     "text": [
      "['ربما كانت أحد أهم التطورات التي قامت بها الرياضيات العربية التي بدأت في هذا الوقت بعمل الخوارزمي و هي بدايات الجبر، و من المهم فهم كيف كانت هذه الفكرة الجديدة مهمة، فقد كانت خطوة ثورية بعيدا عن المفهوم اليوناني للرياضيات التي هي في جوهرها هندسة، الجبر كان نظرية موحدة تتيح الأعداد الكسرية و الأعداد اللا كسرية، و المقادير الهندسية و غيرها، أن تتعامل على أنها أجسام جبرية، و أعطت الرياضيات ككل مسارا جديدا للتطور بمفهوم أوسع بكثير من الذي كان موجودا من قبل، و قدم وسيلة للتنمية في هذا الموضوع مستقبلا و جانب آخر مهم لإدخال أفكار الجبر و هو أنه سمح بتطبيق الرياضيات على نفسها بطريقة لم تحدث من قبل']\n"
     ]
    }
   ],
   "source": [
    "Text_ar_word = sent_tokenize(Text_ar)\n",
    "print(Text_ar_word)"
   ]
  },
  {
   "cell_type": "markdown",
   "id": "2286c0f0",
   "metadata": {},
   "source": [
    "## Stopwords "
   ]
  },
  {
   "cell_type": "markdown",
   "id": "ba48cb91",
   "metadata": {},
   "source": [
    "##### get list of stopwords for specific arabic"
   ]
  },
  {
   "cell_type": "code",
   "execution_count": 75,
   "id": "17ee8c28",
   "metadata": {},
   "outputs": [
    {
     "name": "stdout",
     "output_type": "stream",
     "text": [
      "{'ثمة', 'ذلكما', 'على', 'فمن', 'لست', 'بي', 'فإن', 'حيث', 'كلا', 'هناك', 'حتى', 'هيهات', 'هي', 'ريث', 'الذين', 'هاتان', 'مع', 'إذا', 'آها', 'أولاء', 'أينما', 'تين', 'اللتيا', 'تي', 'ومن', 'ولكن', 'بل', 'لهن', 'هو', 'وهو', 'لدى', 'إليكما', 'عن', 'لكن', 'فيه', 'بما', 'أوه', 'هاته', 'كل', 'ألا', 'كلاهما', 'ذات', 'وإن', 'بهما', 'في', 'ذين', 'عليك', 'ولو', 'هل', 'كيفما', 'وما', 'أنتما', 'فيها', 'ممن', 'إيه', 'كذا', 'اللواتي', 'نحن', 'عند', 'سوى', 'هذان', 'أنت', 'ها', 'لهما', 'تلك', 'هلا', 'اللذين', 'أنتم', 'لكما', 'لوما', 'عدا', 'اللتان', 'لهم', 'هذي', 'لسن', 'متى', 'ذوا', 'هاتي', 'أنتن', 'لولا', 'أم', 'فيما', 'كأي', 'بعد', 'هم', 'لكم', 'حاشا', 'كأنما', 'شتان', 'له', 'والذي', 'ليس', 'حين', 'هاتين', 'أما', 'قد', 'لكيلا', 'هنا', 'أين', 'ذاك', 'أن', 'حبذا', 'عليه', 'لما', 'إذن', 'ته', 'ذلك', 'ليست', 'ذينك', 'مهما', 'وإذ', 'إليكم', 'نحو', 'لعل', 'كم', 'هذا', 'مه', 'ولا', 'هنالك', 'بها', 'هاهنا', 'هيا', 'والذين', 'يا', 'كيف', 'لاسيما', 'ذه', 'هما', 'أكثر', 'الذي', 'منذ', 'إن', 'به', 'ذي', 'هيت', 'بمن', 'بين', 'لنا', 'ذواتا', 'إي', 'ذلكن', 'لا', 'دون', 'لن', 'أنا', 'لك', 'ما', 'بلى', 'بيد', 'بماذا', 'لها', 'لي', 'أي', 'نعم', 'بكم', 'كلتا', 'بنا', 'فإذا', 'ليت', 'كأين', 'اللاتي', 'إليك', 'لستما', 'أيها', 'خلا', 'إذ', 'ذا', 'كما', 'منه', 'بخ', 'كلما', 'كذلك', 'لكي', 'ذواتي', 'إلا', 'لستن', 'هذين', 'أنى', 'اللائي', 'تينك', 'لسنا', 'أف', 'بهن', 'كليكما', 'هاك', 'إليكن', 'ذو', 'أو', 'ليسوا', 'التي', 'بعض', 'ماذا', 'تلكما', 'لو', 'كي', 'عل', 'بس', 'إنه', 'لم', 'ذانك', 'من', 'اللذان', 'كيت', 'أقل', 'عما', 'فلا', 'عسى', 'لستم', 'بهم', 'هؤلاء', 'بكما', 'آه', 'إلى', 'ثم', 'كأن', 'هذه', 'بك', 'هن', 'إما', 'أولئك', 'لئن', 'لكنما', 'ليسا', 'بكن', 'مذ', 'إنا', 'ذلكم', 'آي', 'ذان', 'إنما', 'اللتين', 'حيثما', 'غير', 'وإذا', 'إذما', 'سوف', 'ليستا', 'هكذا', 'تلكم', 'فيم', 'مما', 'منها', 'كليهما'}\n"
     ]
    }
   ],
   "source": [
    "arabic_stops = set(stopwords.words('arabic'))"
   ]
  },
  {
   "cell_type": "markdown",
   "id": "4028bc90",
   "metadata": {},
   "source": [
    "##### Remove Stopwords"
   ]
  },
  {
   "cell_type": "code",
   "execution_count": 85,
   "id": "4b3b9114",
   "metadata": {},
   "outputs": [
    {
     "name": "stdout",
     "output_type": "stream",
     "text": [
      "['ربما كانت أحد أهم التطورات التي قامت بها الرياضيات العربية التي بدأت في هذا الوقت بعمل الخوارزمي و هي بدايات الجبر، و من المهم فهم كيف كانت هذه الفكرة الجديدة مهمة، فقد كانت خطوة ثورية بعيدا عن المفهوم اليوناني للرياضيات التي هي في جوهرها هندسة، الجبر كان نظرية موحدة تتيح الأعداد الكسرية و الأعداد اللا كسرية، و المقادير الهندسية و غيرها، أن تتعامل على أنها أجسام جبرية، و أعطت الرياضيات ككل مسارا جديدا للتطور بمفهوم أوسع بكثير من الذي كان موجودا من قبل، و قدم وسيلة للتنمية في هذا الموضوع مستقبلا و جانب آخر مهم لإدخال أفكار الجبر و هو أنه سمح بتطبيق الرياضيات على نفسها بطريقة لم تحدث من قبل']\n"
     ]
    }
   ],
   "source": [
    "print([word_ar for word_ar in Text_ar_word if word_ar not in arabic_stops])"
   ]
  }
 ],
 "metadata": {
  "kernelspec": {
   "display_name": "Python 3",
   "language": "python",
   "name": "python3"
  },
  "language_info": {
   "codemirror_mode": {
    "name": "ipython",
    "version": 3
   },
   "file_extension": ".py",
   "mimetype": "text/x-python",
   "name": "python",
   "nbconvert_exporter": "python",
   "pygments_lexer": "ipython3",
   "version": "3.8.10"
  }
 },
 "nbformat": 4,
 "nbformat_minor": 5
}
